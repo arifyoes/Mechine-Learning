{
 "cells": [
  {
   "cell_type": "code",
   "execution_count": 3,
   "id": "0b078180",
   "metadata": {},
   "outputs": [],
   "source": [
    "# Library\n",
    "\n",
    "import pandas as pd\n",
    "import numpy as np\n",
    "\n",
    "# Visualization\n",
    "import matplotlib.pyplot as plt\n",
    "import seaborn as sns\n",
    "import missingno\n",
    "from IPython.display import display\n",
    "\n",
    "# Feature Engineering\n",
    "from sklearn.pipeline import Pipeline\n",
    "from sklearn.impute import SimpleImputer\n",
    "from sklearn.preprocessing import OneHotEncoder, LabelEncoder, OrdinalEncoder\n",
    "from sklearn.compose import ColumnTransformer\n",
    "import category_encoders as ce\n",
    "\n",
    "# Model Selection\n",
    "from sklearn.linear_model import LogisticRegression\n",
    "from sklearn.tree import DecisionTreeClassifier\n",
    "from sklearn.model_selection import GridSearchCV,StratifiedKFold,train_test_split, cross_val_score\n",
    "from sklearn.metrics import classification_report, confusion_matrix\n",
    "from sklearn.neighbors import KNeighborsClassifier\n",
    "from sklearn.ensemble import RandomForestClassifier\n",
    "from xgboost import XGBClassifier\n",
    "import lightgbm as lgb\n",
    "from sklearn.metrics import f1_score, accuracy_score, recall_score, precision_score\n",
    "from sklearn.metrics import roc_curve, roc_auc_score, plot_roc_curve\n",
    "from sklearn.model_selection import RandomizedSearchCV\n",
    "\n",
    "# Resampling\n",
    "from imblearn.over_sampling import RandomOverSampler, SMOTE\n",
    "from imblearn.under_sampling import RandomUnderSampler, NearMiss\n",
    "from imblearn.combine import SMOTETomek\n",
    "from imblearn.pipeline import Pipeline\n",
    "\n",
    "# Imbalance Dataset\n",
    "from imblearn.pipeline import Pipeline\n",
    "from imblearn.over_sampling import RandomOverSampler\n",
    "\n",
    "# Ignore Warning\n",
    "import sys\n",
    "import warnings\n",
    "if not sys.warnoptions:\n",
    "    warnings.simplefilter(\"ignore\")\n",
    "\n",
    "# Set max columns\n",
    "pd.set_option('display.max_columns', None)"
   ]
  },
  {
   "cell_type": "code",
   "execution_count": 4,
   "id": "225d8984",
   "metadata": {},
   "outputs": [
    {
     "data": {
      "text/html": [
       "<div>\n",
       "<style scoped>\n",
       "    .dataframe tbody tr th:only-of-type {\n",
       "        vertical-align: middle;\n",
       "    }\n",
       "\n",
       "    .dataframe tbody tr th {\n",
       "        vertical-align: top;\n",
       "    }\n",
       "\n",
       "    .dataframe thead th {\n",
       "        text-align: right;\n",
       "    }\n",
       "</style>\n",
       "<table border=\"1\" class=\"dataframe\">\n",
       "  <thead>\n",
       "    <tr style=\"text-align: right;\">\n",
       "      <th></th>\n",
       "      <th>country</th>\n",
       "      <th>market_segment</th>\n",
       "      <th>previous_cancellations</th>\n",
       "      <th>booking_changes</th>\n",
       "      <th>deposit_type</th>\n",
       "      <th>days_in_waiting_list</th>\n",
       "      <th>customer_type</th>\n",
       "      <th>reserved_room_type</th>\n",
       "      <th>required_car_parking_spaces</th>\n",
       "      <th>total_of_special_requests</th>\n",
       "      <th>is_canceled</th>\n",
       "    </tr>\n",
       "  </thead>\n",
       "  <tbody>\n",
       "    <tr>\n",
       "      <th>0</th>\n",
       "      <td>IRL</td>\n",
       "      <td>Offline TA/TO</td>\n",
       "      <td>0</td>\n",
       "      <td>0</td>\n",
       "      <td>No Deposit</td>\n",
       "      <td>0</td>\n",
       "      <td>Transient-Party</td>\n",
       "      <td>A</td>\n",
       "      <td>0</td>\n",
       "      <td>0</td>\n",
       "      <td>0</td>\n",
       "    </tr>\n",
       "    <tr>\n",
       "      <th>1</th>\n",
       "      <td>FRA</td>\n",
       "      <td>Online TA</td>\n",
       "      <td>0</td>\n",
       "      <td>0</td>\n",
       "      <td>No Deposit</td>\n",
       "      <td>0</td>\n",
       "      <td>Transient</td>\n",
       "      <td>A</td>\n",
       "      <td>0</td>\n",
       "      <td>2</td>\n",
       "      <td>0</td>\n",
       "    </tr>\n",
       "    <tr>\n",
       "      <th>2</th>\n",
       "      <td>PRT</td>\n",
       "      <td>Online TA</td>\n",
       "      <td>0</td>\n",
       "      <td>1</td>\n",
       "      <td>No Deposit</td>\n",
       "      <td>0</td>\n",
       "      <td>Transient</td>\n",
       "      <td>A</td>\n",
       "      <td>0</td>\n",
       "      <td>2</td>\n",
       "      <td>0</td>\n",
       "    </tr>\n",
       "    <tr>\n",
       "      <th>3</th>\n",
       "      <td>NLD</td>\n",
       "      <td>Online TA</td>\n",
       "      <td>0</td>\n",
       "      <td>0</td>\n",
       "      <td>No Deposit</td>\n",
       "      <td>0</td>\n",
       "      <td>Transient</td>\n",
       "      <td>A</td>\n",
       "      <td>0</td>\n",
       "      <td>1</td>\n",
       "      <td>1</td>\n",
       "    </tr>\n",
       "    <tr>\n",
       "      <th>4</th>\n",
       "      <td>PRT</td>\n",
       "      <td>Online TA</td>\n",
       "      <td>0</td>\n",
       "      <td>2</td>\n",
       "      <td>No Deposit</td>\n",
       "      <td>0</td>\n",
       "      <td>Transient</td>\n",
       "      <td>A</td>\n",
       "      <td>0</td>\n",
       "      <td>2</td>\n",
       "      <td>0</td>\n",
       "    </tr>\n",
       "  </tbody>\n",
       "</table>\n",
       "</div>"
      ],
      "text/plain": [
       "  country market_segment  previous_cancellations  booking_changes  \\\n",
       "0     IRL  Offline TA/TO                       0                0   \n",
       "1     FRA      Online TA                       0                0   \n",
       "2     PRT      Online TA                       0                1   \n",
       "3     NLD      Online TA                       0                0   \n",
       "4     PRT      Online TA                       0                2   \n",
       "\n",
       "  deposit_type  days_in_waiting_list    customer_type reserved_room_type  \\\n",
       "0   No Deposit                     0  Transient-Party                  A   \n",
       "1   No Deposit                     0        Transient                  A   \n",
       "2   No Deposit                     0        Transient                  A   \n",
       "3   No Deposit                     0        Transient                  A   \n",
       "4   No Deposit                     0        Transient                  A   \n",
       "\n",
       "   required_car_parking_spaces  total_of_special_requests  is_canceled  \n",
       "0                            0                          0            0  \n",
       "1                            0                          2            0  \n",
       "2                            0                          2            0  \n",
       "3                            0                          1            1  \n",
       "4                            0                          2            0  "
      ]
     },
     "execution_count": 4,
     "metadata": {},
     "output_type": "execute_result"
    }
   ],
   "source": [
    "#Load Dataset\n",
    "df = pd.read_csv(\"data_hotel_booking_demand.csv\")\n",
    "\n",
    "df.head()"
   ]
  },
  {
   "cell_type": "code",
   "execution_count": 5,
   "id": "6db1ec9d",
   "metadata": {},
   "outputs": [
    {
     "data": {
      "text/html": [
       "<div>\n",
       "<style scoped>\n",
       "    .dataframe tbody tr th:only-of-type {\n",
       "        vertical-align: middle;\n",
       "    }\n",
       "\n",
       "    .dataframe tbody tr th {\n",
       "        vertical-align: top;\n",
       "    }\n",
       "\n",
       "    .dataframe thead th {\n",
       "        text-align: right;\n",
       "    }\n",
       "</style>\n",
       "<table border=\"1\" class=\"dataframe\">\n",
       "  <thead>\n",
       "    <tr style=\"text-align: right;\">\n",
       "      <th></th>\n",
       "      <th>country</th>\n",
       "      <th>market_segment</th>\n",
       "      <th>previous_cancellations</th>\n",
       "      <th>booking_changes</th>\n",
       "      <th>deposit_type</th>\n",
       "      <th>days_in_waiting_list</th>\n",
       "      <th>customer_type</th>\n",
       "      <th>reserved_room_type</th>\n",
       "      <th>required_car_parking_spaces</th>\n",
       "      <th>total_of_special_requests</th>\n",
       "      <th>is_canceled</th>\n",
       "    </tr>\n",
       "  </thead>\n",
       "  <tbody>\n",
       "    <tr>\n",
       "      <th>83568</th>\n",
       "      <td>PRT</td>\n",
       "      <td>Online TA</td>\n",
       "      <td>0</td>\n",
       "      <td>0</td>\n",
       "      <td>No Deposit</td>\n",
       "      <td>0</td>\n",
       "      <td>Contract</td>\n",
       "      <td>A</td>\n",
       "      <td>0</td>\n",
       "      <td>3</td>\n",
       "      <td>1</td>\n",
       "    </tr>\n",
       "    <tr>\n",
       "      <th>83569</th>\n",
       "      <td>FRA</td>\n",
       "      <td>Online TA</td>\n",
       "      <td>0</td>\n",
       "      <td>0</td>\n",
       "      <td>No Deposit</td>\n",
       "      <td>0</td>\n",
       "      <td>Transient</td>\n",
       "      <td>D</td>\n",
       "      <td>0</td>\n",
       "      <td>2</td>\n",
       "      <td>0</td>\n",
       "    </tr>\n",
       "    <tr>\n",
       "      <th>83570</th>\n",
       "      <td>PRT</td>\n",
       "      <td>Online TA</td>\n",
       "      <td>0</td>\n",
       "      <td>1</td>\n",
       "      <td>No Deposit</td>\n",
       "      <td>0</td>\n",
       "      <td>Transient</td>\n",
       "      <td>D</td>\n",
       "      <td>0</td>\n",
       "      <td>3</td>\n",
       "      <td>0</td>\n",
       "    </tr>\n",
       "    <tr>\n",
       "      <th>83571</th>\n",
       "      <td>CN</td>\n",
       "      <td>Offline TA/TO</td>\n",
       "      <td>0</td>\n",
       "      <td>0</td>\n",
       "      <td>No Deposit</td>\n",
       "      <td>0</td>\n",
       "      <td>Transient-Party</td>\n",
       "      <td>A</td>\n",
       "      <td>0</td>\n",
       "      <td>0</td>\n",
       "      <td>0</td>\n",
       "    </tr>\n",
       "    <tr>\n",
       "      <th>83572</th>\n",
       "      <td>PRT</td>\n",
       "      <td>Groups</td>\n",
       "      <td>0</td>\n",
       "      <td>0</td>\n",
       "      <td>Non Refund</td>\n",
       "      <td>0</td>\n",
       "      <td>Transient</td>\n",
       "      <td>A</td>\n",
       "      <td>0</td>\n",
       "      <td>0</td>\n",
       "      <td>1</td>\n",
       "    </tr>\n",
       "  </tbody>\n",
       "</table>\n",
       "</div>"
      ],
      "text/plain": [
       "      country market_segment  previous_cancellations  booking_changes  \\\n",
       "83568     PRT      Online TA                       0                0   \n",
       "83569     FRA      Online TA                       0                0   \n",
       "83570     PRT      Online TA                       0                1   \n",
       "83571      CN  Offline TA/TO                       0                0   \n",
       "83572     PRT         Groups                       0                0   \n",
       "\n",
       "      deposit_type  days_in_waiting_list    customer_type reserved_room_type  \\\n",
       "83568   No Deposit                     0         Contract                  A   \n",
       "83569   No Deposit                     0        Transient                  D   \n",
       "83570   No Deposit                     0        Transient                  D   \n",
       "83571   No Deposit                     0  Transient-Party                  A   \n",
       "83572   Non Refund                     0        Transient                  A   \n",
       "\n",
       "       required_car_parking_spaces  total_of_special_requests  is_canceled  \n",
       "83568                            0                          3            1  \n",
       "83569                            0                          2            0  \n",
       "83570                            0                          3            0  \n",
       "83571                            0                          0            0  \n",
       "83572                            0                          0            1  "
      ]
     },
     "execution_count": 5,
     "metadata": {},
     "output_type": "execute_result"
    }
   ],
   "source": [
    "df.tail()"
   ]
  },
  {
   "cell_type": "markdown",
   "id": "b5285db4",
   "metadata": {},
   "source": [
    "# Data Cleaning"
   ]
  },
  {
   "cell_type": "code",
   "execution_count": 6,
   "id": "e871fa26",
   "metadata": {},
   "outputs": [
    {
     "name": "stdout",
     "output_type": "stream",
     "text": [
      "<class 'pandas.core.frame.DataFrame'>\n",
      "RangeIndex: 83573 entries, 0 to 83572\n",
      "Data columns (total 11 columns):\n",
      " #   Column                       Non-Null Count  Dtype \n",
      "---  ------                       --------------  ----- \n",
      " 0   country                      83222 non-null  object\n",
      " 1   market_segment               83573 non-null  object\n",
      " 2   previous_cancellations       83573 non-null  int64 \n",
      " 3   booking_changes              83573 non-null  int64 \n",
      " 4   deposit_type                 83573 non-null  object\n",
      " 5   days_in_waiting_list         83573 non-null  int64 \n",
      " 6   customer_type                83573 non-null  object\n",
      " 7   reserved_room_type           83573 non-null  object\n",
      " 8   required_car_parking_spaces  83573 non-null  int64 \n",
      " 9   total_of_special_requests    83573 non-null  int64 \n",
      " 10  is_canceled                  83573 non-null  int64 \n",
      "dtypes: int64(6), object(5)\n",
      "memory usage: 7.0+ MB\n"
     ]
    }
   ],
   "source": [
    "# Count and Datatype for each Column\n",
    "df.info()"
   ]
  },
  {
   "cell_type": "code",
   "execution_count": 7,
   "id": "7efdcb1d",
   "metadata": {},
   "outputs": [
    {
     "data": {
      "text/html": [
       "<div>\n",
       "<style scoped>\n",
       "    .dataframe tbody tr th:only-of-type {\n",
       "        vertical-align: middle;\n",
       "    }\n",
       "\n",
       "    .dataframe tbody tr th {\n",
       "        vertical-align: top;\n",
       "    }\n",
       "\n",
       "    .dataframe thead th {\n",
       "        text-align: right;\n",
       "    }\n",
       "</style>\n",
       "<table border=\"1\" class=\"dataframe\">\n",
       "  <thead>\n",
       "    <tr style=\"text-align: right;\">\n",
       "      <th></th>\n",
       "      <th>dataFeatures</th>\n",
       "      <th>dataType</th>\n",
       "      <th>null</th>\n",
       "      <th>nullPct</th>\n",
       "      <th>unique</th>\n",
       "      <th>uniqueSample</th>\n",
       "    </tr>\n",
       "  </thead>\n",
       "  <tbody>\n",
       "    <tr>\n",
       "      <th>0</th>\n",
       "      <td>country</td>\n",
       "      <td>object</td>\n",
       "      <td>351</td>\n",
       "      <td>0.42</td>\n",
       "      <td>162</td>\n",
       "      <td>[IMN, BOL]</td>\n",
       "    </tr>\n",
       "    <tr>\n",
       "      <th>1</th>\n",
       "      <td>market_segment</td>\n",
       "      <td>object</td>\n",
       "      <td>0</td>\n",
       "      <td>0.00</td>\n",
       "      <td>8</td>\n",
       "      <td>[Groups, Undefined]</td>\n",
       "    </tr>\n",
       "    <tr>\n",
       "      <th>2</th>\n",
       "      <td>previous_cancellations</td>\n",
       "      <td>int64</td>\n",
       "      <td>0</td>\n",
       "      <td>0.00</td>\n",
       "      <td>15</td>\n",
       "      <td>[11, 4]</td>\n",
       "    </tr>\n",
       "    <tr>\n",
       "      <th>3</th>\n",
       "      <td>booking_changes</td>\n",
       "      <td>int64</td>\n",
       "      <td>0</td>\n",
       "      <td>0.00</td>\n",
       "      <td>19</td>\n",
       "      <td>[1, 6]</td>\n",
       "    </tr>\n",
       "    <tr>\n",
       "      <th>4</th>\n",
       "      <td>deposit_type</td>\n",
       "      <td>object</td>\n",
       "      <td>0</td>\n",
       "      <td>0.00</td>\n",
       "      <td>3</td>\n",
       "      <td>[Refundable, Non Refund]</td>\n",
       "    </tr>\n",
       "    <tr>\n",
       "      <th>5</th>\n",
       "      <td>days_in_waiting_list</td>\n",
       "      <td>int64</td>\n",
       "      <td>0</td>\n",
       "      <td>0.00</td>\n",
       "      <td>115</td>\n",
       "      <td>[18, 113]</td>\n",
       "    </tr>\n",
       "    <tr>\n",
       "      <th>6</th>\n",
       "      <td>customer_type</td>\n",
       "      <td>object</td>\n",
       "      <td>0</td>\n",
       "      <td>0.00</td>\n",
       "      <td>4</td>\n",
       "      <td>[Transient-Party, Transient]</td>\n",
       "    </tr>\n",
       "    <tr>\n",
       "      <th>7</th>\n",
       "      <td>reserved_room_type</td>\n",
       "      <td>object</td>\n",
       "      <td>0</td>\n",
       "      <td>0.00</td>\n",
       "      <td>10</td>\n",
       "      <td>[F, E]</td>\n",
       "    </tr>\n",
       "    <tr>\n",
       "      <th>8</th>\n",
       "      <td>required_car_parking_spaces</td>\n",
       "      <td>int64</td>\n",
       "      <td>0</td>\n",
       "      <td>0.00</td>\n",
       "      <td>5</td>\n",
       "      <td>[8, 1]</td>\n",
       "    </tr>\n",
       "    <tr>\n",
       "      <th>9</th>\n",
       "      <td>total_of_special_requests</td>\n",
       "      <td>int64</td>\n",
       "      <td>0</td>\n",
       "      <td>0.00</td>\n",
       "      <td>6</td>\n",
       "      <td>[0, 3]</td>\n",
       "    </tr>\n",
       "    <tr>\n",
       "      <th>10</th>\n",
       "      <td>is_canceled</td>\n",
       "      <td>int64</td>\n",
       "      <td>0</td>\n",
       "      <td>0.00</td>\n",
       "      <td>2</td>\n",
       "      <td>[0, 1]</td>\n",
       "    </tr>\n",
       "  </tbody>\n",
       "</table>\n",
       "</div>"
      ],
      "text/plain": [
       "                   dataFeatures dataType  null  nullPct  unique  \\\n",
       "0                       country   object   351     0.42     162   \n",
       "1                market_segment   object     0     0.00       8   \n",
       "2        previous_cancellations    int64     0     0.00      15   \n",
       "3               booking_changes    int64     0     0.00      19   \n",
       "4                  deposit_type   object     0     0.00       3   \n",
       "5          days_in_waiting_list    int64     0     0.00     115   \n",
       "6                 customer_type   object     0     0.00       4   \n",
       "7            reserved_room_type   object     0     0.00      10   \n",
       "8   required_car_parking_spaces    int64     0     0.00       5   \n",
       "9     total_of_special_requests    int64     0     0.00       6   \n",
       "10                  is_canceled    int64     0     0.00       2   \n",
       "\n",
       "                    uniqueSample  \n",
       "0                     [IMN, BOL]  \n",
       "1            [Groups, Undefined]  \n",
       "2                        [11, 4]  \n",
       "3                         [1, 6]  \n",
       "4       [Refundable, Non Refund]  \n",
       "5                      [18, 113]  \n",
       "6   [Transient-Party, Transient]  \n",
       "7                         [F, E]  \n",
       "8                         [8, 1]  \n",
       "9                         [0, 3]  \n",
       "10                        [0, 1]  "
      ]
     },
     "execution_count": 7,
     "metadata": {},
     "output_type": "execute_result"
    }
   ],
   "source": [
    "listItem = []\n",
    "for col in df.columns :\n",
    "    listItem.append([col, df[col].dtype, df[col].isna().sum(), round((df[col].isna().sum()/len(df[col])) * 100,2),\n",
    "                    df[col].nunique(), list(df[col].drop_duplicates().sample(2).values)]);\n",
    "\n",
    "dfDesc = pd.DataFrame(columns=['dataFeatures', 'dataType', 'null', 'nullPct', 'unique', 'uniqueSample'],\n",
    "                     data=listItem)\n",
    "dfDesc"
   ]
  },
  {
   "cell_type": "markdown",
   "id": "4c0b548e",
   "metadata": {},
   "source": [
    "*Check Every Columns*"
   ]
  },
  {
   "cell_type": "code",
   "execution_count": 8,
   "id": "220eddad",
   "metadata": {},
   "outputs": [
    {
     "data": {
      "text/plain": [
       "array(['IRL', 'FRA', 'PRT', 'NLD', 'ESP', 'UMI', 'CN', 'LUX', 'BRA',\n",
       "       'BEL', 'JPN', 'DEU', 'ITA', 'CHE', 'GBR', 'AGO', 'SRB', 'COL',\n",
       "       'CHN', 'SWE', 'AUT', 'CIV', 'CZE', 'POL', 'USA', 'SGP', 'RUS',\n",
       "       'ROU', 'DNK', 'IND', 'MAR', 'PHL', 'ARG', 'ISL', 'ZAF', 'LBN',\n",
       "       'MOZ', 'TUR', 'BGD', 'MEX', 'CAF', 'NOR', 'FIN', 'UKR', 'EGY',\n",
       "       'ISR', nan, 'KOR', 'AZE', 'HUN', 'AUS', 'EST', 'CHL', 'SVN', 'PRY',\n",
       "       'ABW', 'ALB', 'LTU', 'ARE', 'HRV', 'SAU', 'NZL', 'LVA', 'ATA',\n",
       "       'KAZ', 'DZA', 'TWN', 'CRI', 'BIH', 'BGR', 'IRQ', 'OMN', 'VEN',\n",
       "       'IDN', 'GEO', 'MLT', 'IRN', 'BLR', 'URY', 'LBY', 'TUN', 'BEN',\n",
       "       'MYS', 'MWI', 'GRC', 'CYP', 'CPV', 'HKG', 'PRI', 'MKD', 'MUS',\n",
       "       'IMN', 'PAN', 'NGA', 'GLP', 'KHM', 'PER', 'QAT', 'SEN', 'MAC',\n",
       "       'SVK', 'BHR', 'ECU', 'SYC', 'BOL', 'TJK', 'LCA', 'MDV', 'SYR',\n",
       "       'ZMB', 'LIE', 'THA', 'MNE', 'BRB', 'CMR', 'JEY', 'GTM', 'LKA',\n",
       "       'JOR', 'TZA', 'AND', 'ARM', 'GIB', 'VNM', 'PAK', 'JAM', 'DOM',\n",
       "       'KWT', 'LAO', 'RWA', 'FRO', 'GAB', 'ETH', 'CUB', 'COM', 'GNB',\n",
       "       'GGY', 'NIC', 'TGO', 'TMP', 'CYM', 'GHA', 'SLE', 'BWA', 'NCL',\n",
       "       'UZB', 'SUR', 'SDN', 'PLW', 'MLI', 'MMR', 'BFA', 'SLV', 'BDI',\n",
       "       'ZWE', 'UGA', 'DMA', 'VGB', 'KIR', 'KEN', 'MYT', 'KNA', 'AIA'],\n",
       "      dtype=object)"
      ]
     },
     "execution_count": 8,
     "metadata": {},
     "output_type": "execute_result"
    }
   ],
   "source": [
    "df['country'].unique()"
   ]
  },
  {
   "cell_type": "code",
   "execution_count": 9,
   "id": "2ceb4fb7",
   "metadata": {},
   "outputs": [
    {
     "data": {
      "text/plain": [
       "array(['Offline TA/TO', 'Online TA', 'Direct', 'Groups', 'Corporate',\n",
       "       'Complementary', 'Aviation', 'Undefined'], dtype=object)"
      ]
     },
     "execution_count": 9,
     "metadata": {},
     "output_type": "execute_result"
    }
   ],
   "source": [
    "df.dropna()['market_segment'].unique()"
   ]
  },
  {
   "cell_type": "code",
   "execution_count": 10,
   "id": "f8ba4c2a",
   "metadata": {},
   "outputs": [
    {
     "data": {
      "text/plain": [
       "array(['No Deposit', 'Non Refund', 'Refundable'], dtype=object)"
      ]
     },
     "execution_count": 10,
     "metadata": {},
     "output_type": "execute_result"
    }
   ],
   "source": [
    "df.dropna()['deposit_type'].unique()"
   ]
  },
  {
   "cell_type": "code",
   "execution_count": 11,
   "id": "95e7d964",
   "metadata": {},
   "outputs": [
    {
     "data": {
      "text/plain": [
       "array([  0,   3,  39,  87,  77, 215,  97, 162,  46,  79,   4,  31, 122,\n",
       "        34,  57, 259,  50,  17,  32,  43,  75,  69,  44,  22, 113,  58,\n",
       "        38,  65,  48, 236, 176,  25, 108,  91,  19, 160,  68,  28,  63,\n",
       "        35,  42,  59,  24,   8, 183, 187,  21, 111,  56,  98, 101,  15,\n",
       "        16,  47,  93,  45,  14,  70,  10,  49, 178,  99,  60,  40,  85,\n",
       "       223,   6,  33, 391,  20,   1,  41, 147,  55,  80, 379, 150,  61,\n",
       "       330, 174, 107,  96,  18,  62,  13,  30, 120,  27, 207,  71,   2,\n",
       "        76, 125,   5,   9, 224,  53,  83,  84,  12,  73, 100,  92,  23,\n",
       "        11, 105,  26, 193,   7, 165,  74, 121,  36,  64, 185], dtype=int64)"
      ]
     },
     "execution_count": 11,
     "metadata": {},
     "output_type": "execute_result"
    }
   ],
   "source": [
    "df.dropna()['days_in_waiting_list'].unique()"
   ]
  },
  {
   "cell_type": "code",
   "execution_count": 12,
   "id": "f2b75882",
   "metadata": {},
   "outputs": [
    {
     "data": {
      "text/plain": [
       "array(['Transient-Party', 'Transient', 'Contract', 'Group'], dtype=object)"
      ]
     },
     "execution_count": 12,
     "metadata": {},
     "output_type": "execute_result"
    }
   ],
   "source": [
    "df.dropna()['customer_type'].unique()"
   ]
  },
  {
   "cell_type": "code",
   "execution_count": 13,
   "id": "2d05a234",
   "metadata": {},
   "outputs": [
    {
     "data": {
      "text/plain": [
       "array(['A', 'E', 'D', 'F', 'B', 'G', 'C', 'H', 'L', 'P'], dtype=object)"
      ]
     },
     "execution_count": 13,
     "metadata": {},
     "output_type": "execute_result"
    }
   ],
   "source": [
    "df.dropna()['reserved_room_type'].unique()"
   ]
  },
  {
   "cell_type": "code",
   "execution_count": 14,
   "id": "92bb15d7",
   "metadata": {},
   "outputs": [
    {
     "data": {
      "text/plain": [
       "array([ 0,  1,  2,  5,  3,  4,  6,  7,  9,  8, 17, 10, 13, 12, 14, 21, 16,\n",
       "       20, 15], dtype=int64)"
      ]
     },
     "execution_count": 14,
     "metadata": {},
     "output_type": "execute_result"
    }
   ],
   "source": [
    "df.dropna()['booking_changes'].unique()"
   ]
  },
  {
   "cell_type": "code",
   "execution_count": 15,
   "id": "ee7f52fb",
   "metadata": {},
   "outputs": [
    {
     "data": {
      "text/plain": [
       "array([0, 1], dtype=int64)"
      ]
     },
     "execution_count": 15,
     "metadata": {},
     "output_type": "execute_result"
    }
   ],
   "source": [
    "df.dropna()['is_canceled'].unique()"
   ]
  },
  {
   "cell_type": "markdown",
   "id": "bebc4895",
   "metadata": {},
   "source": [
    "*Missing Values*"
   ]
  },
  {
   "cell_type": "code",
   "execution_count": 16,
   "id": "d5187ef8",
   "metadata": {},
   "outputs": [
    {
     "data": {
      "text/plain": [
       "country                        0.419992\n",
       "market_segment                 0.000000\n",
       "previous_cancellations         0.000000\n",
       "booking_changes                0.000000\n",
       "deposit_type                   0.000000\n",
       "days_in_waiting_list           0.000000\n",
       "customer_type                  0.000000\n",
       "reserved_room_type             0.000000\n",
       "required_car_parking_spaces    0.000000\n",
       "total_of_special_requests      0.000000\n",
       "is_canceled                    0.000000\n",
       "dtype: float64"
      ]
     },
     "execution_count": 16,
     "metadata": {},
     "output_type": "execute_result"
    }
   ],
   "source": [
    "df.isna().sum()/len(df.index)*100"
   ]
  },
  {
   "cell_type": "markdown",
   "id": "73401d4d",
   "metadata": {},
   "source": [
    "# PreProcessing"
   ]
  },
  {
   "cell_type": "markdown",
   "id": "9d41016a",
   "metadata": {},
   "source": [
    "*Preprocessing Scheme*\n",
    "\n",
    "- OneHotEncoding: country, market_segment, deposit_type, customer_type, reserved_room_type \n",
    "- Manual: previous_cancellations, booking_changes, days_in_waiting_list, required_car_parking_spaces, total_of_special_requests."
   ]
  },
  {
   "cell_type": "code",
   "execution_count": 17,
   "id": "94238121",
   "metadata": {},
   "outputs": [],
   "source": [
    "mode_onehot_pipe = Pipeline([\n",
    "    ('encoder', SimpleImputer(strategy = 'most_frequent')),\n",
    "    ('one hot encoder', OneHotEncoder(handle_unknown = 'ignore'))\n",
    "])"
   ]
  },
  {
   "cell_type": "code",
   "execution_count": 18,
   "id": "a76886be",
   "metadata": {},
   "outputs": [],
   "source": [
    "transformer_scale = ColumnTransformer([\n",
    "    ('one hot', OneHotEncoder(handle_unknown = 'ignore'), ['country', 'market_segment', 'deposit_type', 'customer_type', 'reserved_room_type']),], remainder = 'passthrough')"
   ]
  },
  {
   "cell_type": "code",
   "execution_count": 19,
   "id": "1b77afa2",
   "metadata": {},
   "outputs": [
    {
     "data": {
      "text/plain": [
       "0    52795\n",
       "1    30778\n",
       "Name: is_canceled, dtype: int64"
      ]
     },
     "execution_count": 19,
     "metadata": {},
     "output_type": "execute_result"
    }
   ],
   "source": [
    "df['is_canceled'].value_counts()"
   ]
  },
  {
   "cell_type": "markdown",
   "id": "373c3d35",
   "metadata": {},
   "source": [
    "Dari dataset, ada indikasi imbalance data"
   ]
  },
  {
   "cell_type": "code",
   "execution_count": 20,
   "id": "9014afe5",
   "metadata": {},
   "outputs": [
    {
     "data": {
      "text/plain": [
       "0    63.172316\n",
       "1    36.827684\n",
       "Name: is_canceled, dtype: float64"
      ]
     },
     "execution_count": 20,
     "metadata": {},
     "output_type": "execute_result"
    }
   ],
   "source": [
    "df['is_canceled'].value_counts()/df.shape[0]*100"
   ]
  },
  {
   "cell_type": "markdown",
   "id": "fa9ee52d",
   "metadata": {},
   "source": [
    "* *0 = cancel*\n",
    "* *1 = tidak cancel*\n",
    "\n",
    "        - TN: Ada kosumen yang di prediksi cancel dan kenyataannya cancel\n",
    "        - TP: Ada kosumen yang di prediksi tidak cancel dan kenyataannya tidak cancel\n",
    "        - FP: Ada kosumen yang di prediksi cancel dan kenyataannya tidak cancel\n",
    "        - FN: Ada kosumen yang di prediksi tidak cancel dan kenyataanya cancel\n",
    "\n",
    "Tindakan:\n",
    "* FP: konsumen \n",
    "* FN: \n",
    "\n",
    "- > Yang akan di tekan adalah FP, namun akan mencoba roc_auc_score"
   ]
  },
  {
   "cell_type": "markdown",
   "id": "53e27461",
   "metadata": {},
   "source": [
    "*Splitting Data*"
   ]
  },
  {
   "cell_type": "code",
   "execution_count": 21,
   "id": "3e7ddcd9",
   "metadata": {},
   "outputs": [],
   "source": [
    "X = df.drop('is_canceled', axis = 1)\n",
    "y = df['is_canceled']"
   ]
  },
  {
   "cell_type": "code",
   "execution_count": 22,
   "id": "e2b197c0",
   "metadata": {},
   "outputs": [
    {
     "data": {
      "text/plain": [
       "(83573, 10)"
      ]
     },
     "execution_count": 22,
     "metadata": {},
     "output_type": "execute_result"
    }
   ],
   "source": [
    "X.shape"
   ]
  },
  {
   "cell_type": "code",
   "execution_count": 23,
   "id": "80598dfb",
   "metadata": {},
   "outputs": [],
   "source": [
    "X_train_val, X_test, y_train_val, y_test = train_test_split(X,y,\n",
    "                                                   stratify = y,\n",
    "                                                    test_size = 0.3,\n",
    "                                                   random_state = 2727)"
   ]
  },
  {
   "cell_type": "markdown",
   "id": "8e88176f",
   "metadata": {},
   "source": [
    "# Modeling"
   ]
  },
  {
   "cell_type": "markdown",
   "id": "238daa06",
   "metadata": {},
   "source": [
    "*Define Model*"
   ]
  },
  {
   "cell_type": "code",
   "execution_count": 24,
   "id": "15a660e3",
   "metadata": {},
   "outputs": [],
   "source": [
    "logreg = LogisticRegression()\n",
    "tree = DecisionTreeClassifier(random_state = 2727)\n",
    "knn = KNeighborsClassifier()\n",
    "rf = RandomForestClassifier(random_state = 2727)"
   ]
  },
  {
   "cell_type": "code",
   "execution_count": null,
   "id": "c5cb3860",
   "metadata": {},
   "outputs": [],
   "source": []
  },
  {
   "cell_type": "markdown",
   "id": "a5332837",
   "metadata": {},
   "source": [
    "# Cross Validation"
   ]
  },
  {
   "cell_type": "code",
   "execution_count": 25,
   "id": "e0bd999a",
   "metadata": {},
   "outputs": [],
   "source": [
    "logreg_pipe_scale = Pipeline([\n",
    "    ('transformer', transformer_scale),\n",
    "    ('logreg', logreg)\n",
    "])\n",
    "\n",
    "tree_pipe_scale = Pipeline([\n",
    "    ('transformer', transformer_scale),\n",
    "    ('tree', tree)\n",
    "])\n",
    "\n",
    "knn_pipe_scale = Pipeline([\n",
    "    ('transformer', transformer_scale),\n",
    "    ('knn', knn)\n",
    "])\n",
    "\n",
    "rf_pipe_scale = Pipeline([\n",
    "    ('transformer', transformer_scale),\n",
    "    ('rf', rf)\n",
    "])"
   ]
  },
  {
   "cell_type": "code",
   "execution_count": 26,
   "id": "96d3acd9",
   "metadata": {},
   "outputs": [],
   "source": [
    "def model_evaluation(model, metric):\n",
    "    skfold = StratifiedKFold(n_splits = 5)\n",
    "    model_cv = cross_val_score(model, X_train_val, y_train_val, cv = skfold, scoring = metric)\n",
    "    return model_cv"
   ]
  },
  {
   "cell_type": "code",
   "execution_count": 27,
   "id": "e44200c0",
   "metadata": {},
   "outputs": [],
   "source": [
    "logreg_pipe_scale_cv = model_evaluation(logreg_pipe_scale, 'roc_auc')\n",
    "tree_pipe_scale_cv = model_evaluation(tree_pipe_scale, 'roc_auc')\n",
    "knn_pipe_scale_cv = model_evaluation(knn_pipe_scale, 'roc_auc')\n",
    "rf_pipe_scale_cv = model_evaluation(rf_pipe_scale, 'roc_auc')"
   ]
  },
  {
   "cell_type": "code",
   "execution_count": 28,
   "id": "675f55a4",
   "metadata": {},
   "outputs": [],
   "source": [
    "for model in [logreg_pipe_scale, tree_pipe_scale, knn_pipe_scale, rf_pipe_scale]:\n",
    "    model.fit(X_train_val, y_train_val)"
   ]
  },
  {
   "cell_type": "code",
   "execution_count": 29,
   "id": "ece364d5",
   "metadata": {},
   "outputs": [
    {
     "data": {
      "text/html": [
       "<div>\n",
       "<style scoped>\n",
       "    .dataframe tbody tr th:only-of-type {\n",
       "        vertical-align: middle;\n",
       "    }\n",
       "\n",
       "    .dataframe tbody tr th {\n",
       "        vertical-align: top;\n",
       "    }\n",
       "\n",
       "    .dataframe thead th {\n",
       "        text-align: right;\n",
       "    }\n",
       "</style>\n",
       "<table border=\"1\" class=\"dataframe\">\n",
       "  <thead>\n",
       "    <tr style=\"text-align: right;\">\n",
       "      <th></th>\n",
       "      <th>method</th>\n",
       "      <th>mean score</th>\n",
       "      <th>std score</th>\n",
       "      <th>roc auc score</th>\n",
       "    </tr>\n",
       "  </thead>\n",
       "  <tbody>\n",
       "    <tr>\n",
       "      <th>0</th>\n",
       "      <td>Logistic Regression</td>\n",
       "      <td>0.863770</td>\n",
       "      <td>0.003051</td>\n",
       "      <td>0.739714</td>\n",
       "    </tr>\n",
       "    <tr>\n",
       "      <th>1</th>\n",
       "      <td>Decision Tree Classifier</td>\n",
       "      <td>0.877183</td>\n",
       "      <td>0.003211</td>\n",
       "      <td>0.785551</td>\n",
       "    </tr>\n",
       "    <tr>\n",
       "      <th>2</th>\n",
       "      <td>KNN Classifier</td>\n",
       "      <td>0.847389</td>\n",
       "      <td>0.006549</td>\n",
       "      <td>0.761929</td>\n",
       "    </tr>\n",
       "    <tr>\n",
       "      <th>3</th>\n",
       "      <td>Random Forest Classifier</td>\n",
       "      <td>0.887720</td>\n",
       "      <td>0.003500</td>\n",
       "      <td>0.786337</td>\n",
       "    </tr>\n",
       "  </tbody>\n",
       "</table>\n",
       "</div>"
      ],
      "text/plain": [
       "                     method  mean score  std score  roc auc score\n",
       "0       Logistic Regression    0.863770   0.003051       0.739714\n",
       "1  Decision Tree Classifier    0.877183   0.003211       0.785551\n",
       "2            KNN Classifier    0.847389   0.006549       0.761929\n",
       "3  Random Forest Classifier    0.887720   0.003500       0.786337"
      ]
     },
     "execution_count": 29,
     "metadata": {},
     "output_type": "execute_result"
    }
   ],
   "source": [
    "score_mean = [logreg_pipe_scale_cv.mean(), tree_pipe_scale_cv.mean(), knn_pipe_scale_cv.mean(),\n",
    "              rf_pipe_scale_cv.mean()]\n",
    "score_std = [logreg_pipe_scale_cv.std(), tree_pipe_scale_cv.std(), knn_pipe_scale_cv.std(),\n",
    "             rf_pipe_scale_cv.std()]\n",
    "score_roc_auc = [roc_auc_score(y_test, logreg_pipe_scale.predict(X_test)),\n",
    "            roc_auc_score(y_test, tree_pipe_scale.predict(X_test)), \n",
    "            roc_auc_score(y_test, knn_pipe_scale.predict(X_test)), \n",
    "            roc_auc_score(y_test, rf_pipe_scale.predict(X_test))]\n",
    "method_name = ['Logistic Regression', 'Decision Tree Classifier',\n",
    "              'KNN Classifier', 'Random Forest Classifier']\n",
    "cv_summary = pd.DataFrame({\n",
    "    'method': method_name,\n",
    "    'mean score': score_mean,\n",
    "    'std score': score_std,\n",
    "    'roc auc score': score_roc_auc\n",
    "})\n",
    "cv_summary"
   ]
  },
  {
   "cell_type": "code",
   "execution_count": 30,
   "id": "36447ff7",
   "metadata": {},
   "outputs": [
    {
     "data": {
      "text/plain": [
       "<sklearn.metrics._plot.roc_curve.RocCurveDisplay at 0x190649e1cd0>"
      ]
     },
     "execution_count": 30,
     "metadata": {},
     "output_type": "execute_result"
    },
    {
     "data": {
      "image/png": "[encoded data removed]",
      "text/plain": [
       "<Figure size 432x288 with 1 Axes>"
      ]
     },
     "metadata": {
      "needs_background": "light"
     },
     "output_type": "display_data"
    }
   ],
   "source": [
    "plot_roc_curve(tree_pipe_scale, X_test, y_test)"
   ]
  },
  {
   "cell_type": "markdown",
   "id": "2d2e8c4d",
   "metadata": {},
   "source": [
    "# Handling Imbalance"
   ]
  },
  {
   "cell_type": "markdown",
   "id": "b6d03a8e",
   "metadata": {},
   "source": [
    "### UnderSampling"
   ]
  },
  {
   "cell_type": "markdown",
   "id": "dd69e4cd",
   "metadata": {},
   "source": [
    "**RandomUnderSampler Model**"
   ]
  },
  {
   "cell_type": "code",
   "execution_count": 31,
   "id": "c9445d53",
   "metadata": {},
   "outputs": [],
   "source": [
    "rus = RandomUnderSampler(random_state = 2727)\n",
    "X_under, y_under = rus.fit_resample(X_train_val, y_train_val) "
   ]
  },
  {
   "cell_type": "code",
   "execution_count": 32,
   "id": "1bd5ce2c",
   "metadata": {},
   "outputs": [],
   "source": [
    "logreg_pipe_scale_under = Pipeline([\n",
    "    ('transformer', transformer_scale),\n",
    "    ('rus', rus),\n",
    "    ('logreg', logreg)\n",
    "])\n",
    "\n",
    "tree_pipe_scale_under = Pipeline([\n",
    "    ('transformer', transformer_scale),\n",
    "    ('rus', rus),\n",
    "    ('tree', tree)\n",
    "])\n",
    "\n",
    "knn_pipe_scale_under = Pipeline([\n",
    "    ('transformer', transformer_scale),\n",
    "    ('rus', rus),\n",
    "    ('knn', knn)\n",
    "])\n",
    "\n",
    "rf_pipe_scale_under = Pipeline([\n",
    "    ('transformer', transformer_scale),\n",
    "    ('rus', rus),\n",
    "    ('rf', rf)\n",
    "])"
   ]
  },
  {
   "cell_type": "code",
   "execution_count": 33,
   "id": "b3604bb5",
   "metadata": {},
   "outputs": [],
   "source": [
    "def model_evaluation(model, metric):\n",
    "    skfold = StratifiedKFold(n_splits = 5)\n",
    "    model_cv = cross_val_score(model, X_under, y_under, cv = skfold, scoring = metric)\n",
    "    return model_cv  "
   ]
  },
  {
   "cell_type": "code",
   "execution_count": 34,
   "id": "1abf1806",
   "metadata": {},
   "outputs": [],
   "source": [
    "logreg_scale_under_cv = model_evaluation(logreg_pipe_scale_under, 'roc_auc') \n",
    "tree_scale_under_cv = model_evaluation(tree_pipe_scale_under, 'roc_auc')\n",
    "knn_pipe_under_cv = model_evaluation(knn_pipe_scale_under, 'roc_auc')\n",
    "rf_pipe_under_cv = model_evaluation(rf_pipe_scale_under, 'roc_auc')"
   ]
  },
  {
   "cell_type": "markdown",
   "id": "8307f17e",
   "metadata": {},
   "source": [
    "*Fitting Data*"
   ]
  },
  {
   "cell_type": "code",
   "execution_count": 35,
   "id": "95832be4",
   "metadata": {},
   "outputs": [],
   "source": [
    "for model in [logreg_pipe_scale_under, tree_pipe_scale_under, knn_pipe_scale_under, rf_pipe_scale_under]:\n",
    "    model.fit(X_train_val, y_train_val)"
   ]
  },
  {
   "cell_type": "markdown",
   "id": "724fef29",
   "metadata": {},
   "source": [
    "*Summary*"
   ]
  },
  {
   "cell_type": "code",
   "execution_count": 36,
   "id": "a75c0a5d",
   "metadata": {},
   "outputs": [
    {
     "data": {
      "text/html": [
       "<div>\n",
       "<style scoped>\n",
       "    .dataframe tbody tr th:only-of-type {\n",
       "        vertical-align: middle;\n",
       "    }\n",
       "\n",
       "    .dataframe tbody tr th {\n",
       "        vertical-align: top;\n",
       "    }\n",
       "\n",
       "    .dataframe thead th {\n",
       "        text-align: right;\n",
       "    }\n",
       "</style>\n",
       "<table border=\"1\" class=\"dataframe\">\n",
       "  <thead>\n",
       "    <tr style=\"text-align: right;\">\n",
       "      <th></th>\n",
       "      <th>method</th>\n",
       "      <th>mean score</th>\n",
       "      <th>std score</th>\n",
       "      <th>roc auc score</th>\n",
       "    </tr>\n",
       "  </thead>\n",
       "  <tbody>\n",
       "    <tr>\n",
       "      <th>0</th>\n",
       "      <td>Logistic Regression UnderSampling</td>\n",
       "      <td>0.863540</td>\n",
       "      <td>0.001330</td>\n",
       "      <td>0.773935</td>\n",
       "    </tr>\n",
       "    <tr>\n",
       "      <th>1</th>\n",
       "      <td>Decision Tree Classifier UnderSampling</td>\n",
       "      <td>0.872681</td>\n",
       "      <td>0.003053</td>\n",
       "      <td>0.794596</td>\n",
       "    </tr>\n",
       "    <tr>\n",
       "      <th>2</th>\n",
       "      <td>KNN Classifier UnderSampling</td>\n",
       "      <td>0.844255</td>\n",
       "      <td>0.005478</td>\n",
       "      <td>0.768074</td>\n",
       "    </tr>\n",
       "    <tr>\n",
       "      <th>3</th>\n",
       "      <td>Random Forest Classifier UnderSampling</td>\n",
       "      <td>0.886038</td>\n",
       "      <td>0.002125</td>\n",
       "      <td>0.796331</td>\n",
       "    </tr>\n",
       "  </tbody>\n",
       "</table>\n",
       "</div>"
      ],
      "text/plain": [
       "                                   method  mean score  std score  \\\n",
       "0       Logistic Regression UnderSampling    0.863540   0.001330   \n",
       "1  Decision Tree Classifier UnderSampling    0.872681   0.003053   \n",
       "2            KNN Classifier UnderSampling    0.844255   0.005478   \n",
       "3  Random Forest Classifier UnderSampling    0.886038   0.002125   \n",
       "\n",
       "   roc auc score  \n",
       "0       0.773935  \n",
       "1       0.794596  \n",
       "2       0.768074  \n",
       "3       0.796331  "
      ]
     },
     "execution_count": 36,
     "metadata": {},
     "output_type": "execute_result"
    }
   ],
   "source": [
    "score_mean = [logreg_scale_under_cv.mean(), tree_scale_under_cv.mean(), knn_pipe_under_cv.mean(),\n",
    "              rf_pipe_under_cv.mean()]\n",
    "score_std = [logreg_scale_under_cv.std(), tree_scale_under_cv.std(), knn_pipe_under_cv.std(),\n",
    "             rf_pipe_under_cv.std()]\n",
    "score_roc_auc = [roc_auc_score(y_test, logreg_pipe_scale_under.predict(X_test)),\n",
    "            roc_auc_score(y_test, tree_pipe_scale_under.predict(X_test)), \n",
    "            roc_auc_score(y_test, knn_pipe_scale_under.predict(X_test)), \n",
    "            roc_auc_score(y_test, rf_pipe_scale_under.predict(X_test))]\n",
    "method_name = ['Logistic Regression UnderSampling', 'Decision Tree Classifier UnderSampling',\n",
    "              'KNN Classifier UnderSampling', 'Random Forest Classifier UnderSampling']\n",
    "under_summary = pd.DataFrame({\n",
    "    'method': method_name,\n",
    "    'mean score': score_mean,\n",
    "    'std score': score_std,\n",
    "    'roc auc score': score_roc_auc\n",
    "})\n",
    "under_summary"
   ]
  },
  {
   "cell_type": "code",
   "execution_count": 37,
   "id": "96f12c28",
   "metadata": {},
   "outputs": [
    {
     "data": {
      "text/plain": [
       "<sklearn.metrics._plot.roc_curve.RocCurveDisplay at 0x1906e6a7fa0>"
      ]
     },
     "execution_count": 37,
     "metadata": {},
     "output_type": "execute_result"
    },
    {
     "data": {
      "image/png": "[encoded data removed]",
      "text/plain": [
       "<Figure size 432x288 with 1 Axes>"
      ]
     },
     "metadata": {
      "needs_background": "light"
     },
     "output_type": "display_data"
    }
   ],
   "source": [
    "plot_roc_curve(rf_pipe_scale_under, X_test, y_test)"
   ]
  },
  {
   "cell_type": "markdown",
   "id": "b64c4efc",
   "metadata": {},
   "source": [
    "**NearMiss Model**\n",
    "- NearMiss adds some heuristic rules to select samples based on nearest neighbors algorithm."
   ]
  },
  {
   "cell_type": "code",
   "execution_count": 38,
   "id": "db309976",
   "metadata": {},
   "outputs": [],
   "source": [
    "nm = NearMiss(version = 1)"
   ]
  },
  {
   "cell_type": "code",
   "execution_count": 39,
   "id": "cb9a27a5",
   "metadata": {},
   "outputs": [],
   "source": [
    "logreg_pipe_scale_nm = Pipeline([\n",
    "    ('transformer', transformer_scale),\n",
    "    ('nm', nm),\n",
    "    ('logreg', logreg)\n",
    "])\n",
    "\n",
    "tree_pipe_scale_nm = Pipeline([\n",
    "    ('transformer', transformer_scale),\n",
    "    ('nm', nm),\n",
    "    ('tree', tree)\n",
    "])\n",
    "\n",
    "knn_pipe_scale_nm = Pipeline([\n",
    "    ('transformer', transformer_scale),\n",
    "    ('nm', nm),\n",
    "    ('knn', knn)\n",
    "])\n",
    "\n",
    "rf_pipe_scale_nm = Pipeline([\n",
    "    ('transformer', transformer_scale),\n",
    "    ('nm', nm),\n",
    "    ('rf', rf)\n",
    "])"
   ]
  },
  {
   "cell_type": "code",
   "execution_count": 40,
   "id": "5f536ab2",
   "metadata": {},
   "outputs": [],
   "source": [
    "def model_evaluation(model, metric):\n",
    "    skfold = StratifiedKFold(n_splits = 5)\n",
    "    model_cv = cross_val_score(model, X_train_val, y_train_val, cv = skfold, scoring = metric)\n",
    "    return model_cv"
   ]
  },
  {
   "cell_type": "code",
   "execution_count": 41,
   "id": "66eace5e",
   "metadata": {},
   "outputs": [],
   "source": [
    "logreg_scale_nm_cv = model_evaluation(logreg_pipe_scale_nm, 'roc_auc') \n",
    "tree_scale_nm_cv = model_evaluation(tree_pipe_scale_nm, 'roc_auc')\n",
    "knn_pipe_nm_cv = model_evaluation(knn_pipe_scale_nm, 'roc_auc')\n",
    "rf_pipe_nm_cv = model_evaluation(rf_pipe_scale_nm, 'roc_auc')"
   ]
  },
  {
   "cell_type": "markdown",
   "id": "cd15f62c",
   "metadata": {},
   "source": [
    "*Fitting Data*"
   ]
  },
  {
   "cell_type": "code",
   "execution_count": 42,
   "id": "a16ad5ff",
   "metadata": {},
   "outputs": [],
   "source": [
    "for model in [logreg_pipe_scale_nm, tree_pipe_scale_nm, knn_pipe_scale_nm, rf_pipe_scale_nm]:\n",
    "    model.fit(X_train_val, y_train_val)"
   ]
  },
  {
   "cell_type": "markdown",
   "id": "df8faa77",
   "metadata": {},
   "source": [
    "*Summary*"
   ]
  },
  {
   "cell_type": "code",
   "execution_count": 43,
   "id": "0cdb6217",
   "metadata": {},
   "outputs": [
    {
     "data": {
      "text/html": [
       "<div>\n",
       "<style scoped>\n",
       "    .dataframe tbody tr th:only-of-type {\n",
       "        vertical-align: middle;\n",
       "    }\n",
       "\n",
       "    .dataframe tbody tr th {\n",
       "        vertical-align: top;\n",
       "    }\n",
       "\n",
       "    .dataframe thead th {\n",
       "        text-align: right;\n",
       "    }\n",
       "</style>\n",
       "<table border=\"1\" class=\"dataframe\">\n",
       "  <thead>\n",
       "    <tr style=\"text-align: right;\">\n",
       "      <th></th>\n",
       "      <th>method</th>\n",
       "      <th>mean score</th>\n",
       "      <th>std score</th>\n",
       "      <th>roc auc score</th>\n",
       "    </tr>\n",
       "  </thead>\n",
       "  <tbody>\n",
       "    <tr>\n",
       "      <th>0</th>\n",
       "      <td>Logistic Regression NearMiss</td>\n",
       "      <td>0.836733</td>\n",
       "      <td>0.005717</td>\n",
       "      <td>0.732235</td>\n",
       "    </tr>\n",
       "    <tr>\n",
       "      <th>1</th>\n",
       "      <td>Decision Tree Classifier NearMiss</td>\n",
       "      <td>0.843620</td>\n",
       "      <td>0.010298</td>\n",
       "      <td>0.770394</td>\n",
       "    </tr>\n",
       "    <tr>\n",
       "      <th>2</th>\n",
       "      <td>KNN Classifier NearMiss</td>\n",
       "      <td>0.788325</td>\n",
       "      <td>0.009000</td>\n",
       "      <td>0.718994</td>\n",
       "    </tr>\n",
       "    <tr>\n",
       "      <th>3</th>\n",
       "      <td>Random Forest Classifier NearMiss</td>\n",
       "      <td>0.847979</td>\n",
       "      <td>0.004742</td>\n",
       "      <td>0.769796</td>\n",
       "    </tr>\n",
       "  </tbody>\n",
       "</table>\n",
       "</div>"
      ],
      "text/plain": [
       "                              method  mean score  std score  roc auc score\n",
       "0       Logistic Regression NearMiss    0.836733   0.005717       0.732235\n",
       "1  Decision Tree Classifier NearMiss    0.843620   0.010298       0.770394\n",
       "2            KNN Classifier NearMiss    0.788325   0.009000       0.718994\n",
       "3  Random Forest Classifier NearMiss    0.847979   0.004742       0.769796"
      ]
     },
     "execution_count": 43,
     "metadata": {},
     "output_type": "execute_result"
    }
   ],
   "source": [
    "score_mean = [logreg_scale_nm_cv.mean(), tree_scale_nm_cv.mean(), knn_pipe_nm_cv.mean(),\n",
    "              rf_pipe_nm_cv.mean()]\n",
    "score_std = [logreg_scale_nm_cv.std(), tree_scale_nm_cv.std(), knn_pipe_nm_cv.std(),\n",
    "             rf_pipe_nm_cv.std()]\n",
    "score_roc_auc = [roc_auc_score(y_test, logreg_pipe_scale_nm.predict(X_test)),\n",
    "            roc_auc_score(y_test, tree_pipe_scale_nm.predict(X_test)), \n",
    "            roc_auc_score(y_test, knn_pipe_scale_nm.predict(X_test)), \n",
    "            roc_auc_score(y_test, rf_pipe_scale_nm.predict(X_test))]\n",
    "method_name = ['Logistic Regression NearMiss', 'Decision Tree Classifier NearMiss',\n",
    "              'KNN Classifier NearMiss', 'Random Forest Classifier NearMiss']\n",
    "nm_summary = pd.DataFrame({\n",
    "    'method': method_name,\n",
    "    'mean score': score_mean,\n",
    "    'std score': score_std,\n",
    "    'roc auc score': score_roc_auc\n",
    "})\n",
    "nm_summary"
   ]
  },
  {
   "cell_type": "code",
   "execution_count": 44,
   "id": "7680ee4d",
   "metadata": {},
   "outputs": [
    {
     "data": {
      "text/plain": [
       "<sklearn.metrics._plot.roc_curve.RocCurveDisplay at 0x1906e6a7340>"
      ]
     },
     "execution_count": 44,
     "metadata": {},
     "output_type": "execute_result"
    },
    {
     "data": {
      "image/png": "[encoded data removed]",
      "text/plain": [
       "<Figure size 432x288 with 1 Axes>"
      ]
     },
     "metadata": {
      "needs_background": "light"
     },
     "output_type": "display_data"
    }
   ],
   "source": [
    "plot_roc_curve(rf_pipe_scale_nm, X_test, y_test)"
   ]
  },
  {
   "cell_type": "markdown",
   "id": "405afc47",
   "metadata": {},
   "source": [
    "### OverSampling"
   ]
  },
  {
   "cell_type": "markdown",
   "id": "aca865de",
   "metadata": {},
   "source": [
    "**RandomOverSampler Model**"
   ]
  },
  {
   "cell_type": "code",
   "execution_count": 45,
   "id": "8aa557e0",
   "metadata": {},
   "outputs": [],
   "source": [
    "ros = RandomOverSampler(random_state = 2727)\n",
    "X_over, y_over = ros.fit_resample(X_train_val, y_train_val)"
   ]
  },
  {
   "cell_type": "code",
   "execution_count": 46,
   "id": "e97897ce",
   "metadata": {},
   "outputs": [],
   "source": [
    "logreg_pipe_scale_over = Pipeline([\n",
    "    ('transformer', transformer_scale),\n",
    "    ('ros', ros), \n",
    "    ('logreg', logreg)\n",
    "])\n",
    "\n",
    "tree_pipe_scale_over = Pipeline([\n",
    "    ('transformer', transformer_scale),\n",
    "    ('ros', ros), \n",
    "    ('tree', tree)\n",
    "])\n",
    "\n",
    "knn_pipe_scale_over = Pipeline([\n",
    "    ('transformer', transformer_scale),\n",
    "    ('ros', ros), \n",
    "    ('knn', knn)\n",
    "])\n",
    "\n",
    "rf_pipe_scale_over = Pipeline([\n",
    "    ('transformer', transformer_scale),\n",
    "    ('ros', ros),\n",
    "    ('rf', rf)\n",
    "])"
   ]
  },
  {
   "cell_type": "code",
   "execution_count": 47,
   "id": "9029bfbe",
   "metadata": {},
   "outputs": [],
   "source": [
    "def model_evaluation(model, metric):\n",
    "    skfold = StratifiedKFold(n_splits = 5)\n",
    "    model_cv = cross_val_score(model, X_over, y_over, cv = skfold, scoring = metric)\n",
    "    return model_cv"
   ]
  },
  {
   "cell_type": "code",
   "execution_count": 48,
   "id": "b72fb27a",
   "metadata": {},
   "outputs": [],
   "source": [
    "logreg_scale_over_cv = model_evaluation(logreg_pipe_scale_over, 'roc_auc') \n",
    "tree_scale_over_cv = model_evaluation(tree_pipe_scale_over, 'roc_auc')\n",
    "knn_pipe_over_cv = model_evaluation(knn_pipe_scale_over, 'roc_auc')\n",
    "rf_pipe_over_cv = model_evaluation(rf_pipe_scale_over, 'roc_auc')"
   ]
  },
  {
   "cell_type": "markdown",
   "id": "ec8511ad",
   "metadata": {},
   "source": [
    "*Fitting Data*"
   ]
  },
  {
   "cell_type": "code",
   "execution_count": 49,
   "id": "63850fe5",
   "metadata": {},
   "outputs": [],
   "source": [
    "for model in [logreg_pipe_scale_over, tree_pipe_scale_over, knn_pipe_scale_over, rf_pipe_scale_over]:\n",
    "    model.fit(X_train_val, y_train_val)"
   ]
  },
  {
   "cell_type": "code",
   "execution_count": 50,
   "id": "20a85c4d",
   "metadata": {},
   "outputs": [
    {
     "data": {
      "text/html": [
       "<div>\n",
       "<style scoped>\n",
       "    .dataframe tbody tr th:only-of-type {\n",
       "        vertical-align: middle;\n",
       "    }\n",
       "\n",
       "    .dataframe tbody tr th {\n",
       "        vertical-align: top;\n",
       "    }\n",
       "\n",
       "    .dataframe thead th {\n",
       "        text-align: right;\n",
       "    }\n",
       "</style>\n",
       "<table border=\"1\" class=\"dataframe\">\n",
       "  <thead>\n",
       "    <tr style=\"text-align: right;\">\n",
       "      <th></th>\n",
       "      <th>method</th>\n",
       "      <th>mean score</th>\n",
       "      <th>std score</th>\n",
       "      <th>roc auc score</th>\n",
       "    </tr>\n",
       "  </thead>\n",
       "  <tbody>\n",
       "    <tr>\n",
       "      <th>0</th>\n",
       "      <td>Logistic Regression OverSampling</td>\n",
       "      <td>0.864713</td>\n",
       "      <td>0.002512</td>\n",
       "      <td>0.777938</td>\n",
       "    </tr>\n",
       "    <tr>\n",
       "      <th>1</th>\n",
       "      <td>Decision Tree Classifier OverSampling</td>\n",
       "      <td>0.895014</td>\n",
       "      <td>0.007252</td>\n",
       "      <td>0.795857</td>\n",
       "    </tr>\n",
       "    <tr>\n",
       "      <th>2</th>\n",
       "      <td>KNN Classifier OverSampling</td>\n",
       "      <td>0.854122</td>\n",
       "      <td>0.006037</td>\n",
       "      <td>0.771894</td>\n",
       "    </tr>\n",
       "    <tr>\n",
       "      <th>3</th>\n",
       "      <td>Random Forest Classifier OverSampling</td>\n",
       "      <td>0.901135</td>\n",
       "      <td>0.006398</td>\n",
       "      <td>0.796562</td>\n",
       "    </tr>\n",
       "  </tbody>\n",
       "</table>\n",
       "</div>"
      ],
      "text/plain": [
       "                                  method  mean score  std score  roc auc score\n",
       "0       Logistic Regression OverSampling    0.864713   0.002512       0.777938\n",
       "1  Decision Tree Classifier OverSampling    0.895014   0.007252       0.795857\n",
       "2            KNN Classifier OverSampling    0.854122   0.006037       0.771894\n",
       "3  Random Forest Classifier OverSampling    0.901135   0.006398       0.796562"
      ]
     },
     "execution_count": 50,
     "metadata": {},
     "output_type": "execute_result"
    }
   ],
   "source": [
    "score_mean = [logreg_scale_over_cv.mean(), tree_scale_over_cv.mean(), knn_pipe_over_cv.mean(),\n",
    "              rf_pipe_over_cv.mean()]\n",
    "score_std = [logreg_scale_over_cv.std(), tree_scale_over_cv.std(), knn_pipe_over_cv.std(),\n",
    "             rf_pipe_over_cv.std()]\n",
    "score_roc_auc = [roc_auc_score(y_test, logreg_pipe_scale_over.predict(X_test)),\n",
    "            roc_auc_score(y_test, tree_pipe_scale_over.predict(X_test)), \n",
    "            roc_auc_score(y_test, knn_pipe_scale_over.predict(X_test)), \n",
    "            roc_auc_score(y_test, rf_pipe_scale_over.predict(X_test))]\n",
    "method_name = ['Logistic Regression OverSampling', 'Decision Tree Classifier OverSampling',\n",
    "              'KNN Classifier OverSampling', 'Random Forest Classifier OverSampling']\n",
    "over_summary = pd.DataFrame({\n",
    "    'method': method_name,\n",
    "    'mean score': score_mean,\n",
    "    'std score': score_std,\n",
    "    'roc auc score': score_roc_auc\n",
    "})\n",
    "over_summary"
   ]
  },
  {
   "cell_type": "code",
   "execution_count": 51,
   "id": "ac376902",
   "metadata": {},
   "outputs": [
    {
     "data": {
      "text/plain": [
       "<sklearn.metrics._plot.roc_curve.RocCurveDisplay at 0x1906d409040>"
      ]
     },
     "execution_count": 51,
     "metadata": {},
     "output_type": "execute_result"
    },
    {
     "data": {
      "image/png": "[encoded data removed]",
      "text/plain": [
       "<Figure size 432x288 with 1 Axes>"
      ]
     },
     "metadata": {
      "needs_background": "light"
     },
     "output_type": "display_data"
    }
   ],
   "source": [
    "plot_roc_curve(logreg_pipe_scale_over, X_test, y_test)"
   ]
  },
  {
   "cell_type": "markdown",
   "id": "6046997d",
   "metadata": {},
   "source": [
    "**SMOTE**"
   ]
  },
  {
   "cell_type": "code",
   "execution_count": 52,
   "id": "2999b1c8",
   "metadata": {},
   "outputs": [],
   "source": [
    "smote = SMOTE(random_state = 2727)"
   ]
  },
  {
   "cell_type": "code",
   "execution_count": 53,
   "id": "abeb0fbe",
   "metadata": {},
   "outputs": [],
   "source": [
    "logreg_pipe_scale_smote = Pipeline([\n",
    "    ('transformer', transformer_scale),\n",
    "    ('smote', smote),\n",
    "    ('logreg', logreg)\n",
    "])\n",
    "\n",
    "tree_pipe_scale_smote = Pipeline([\n",
    "    ('transformer', transformer_scale),\n",
    "    ('smote', smote),\n",
    "    ('tree', tree)\n",
    "])\n",
    "\n",
    "knn_pipe_scale_smote = Pipeline([\n",
    "    ('transformer', transformer_scale),\n",
    "    ('smote', smote),\n",
    "    ('knn', knn)\n",
    "])\n",
    "\n",
    "rf_pipe_scale_smote = Pipeline([\n",
    "    ('transformer', transformer_scale),\n",
    "    ('smote', smote),\n",
    "    ('rf', rf)\n",
    "])"
   ]
  },
  {
   "cell_type": "code",
   "execution_count": 54,
   "id": "d21f018d",
   "metadata": {},
   "outputs": [],
   "source": [
    "def model_evaluation(model, metric):\n",
    "    skfold = StratifiedKFold(n_splits = 5)\n",
    "    model_cv = cross_val_score(model, X_train_val, y_train_val, cv = skfold, scoring = metric)\n",
    "    return model_cv"
   ]
  },
  {
   "cell_type": "code",
   "execution_count": 55,
   "id": "7e171749",
   "metadata": {},
   "outputs": [],
   "source": [
    "logreg_scale_smote_cv = model_evaluation(logreg_pipe_scale_smote, 'roc_auc') \n",
    "tree_scale_smote_cv = model_evaluation(tree_pipe_scale_smote, 'roc_auc')\n",
    "knn_pipe_smote_cv = model_evaluation(knn_pipe_scale_smote, 'roc_auc')\n",
    "rf_pipe_smote_cv = model_evaluation(rf_pipe_scale_smote, 'roc_auc')"
   ]
  },
  {
   "cell_type": "markdown",
   "id": "c4f499d7",
   "metadata": {},
   "source": [
    "*Fitting Data*"
   ]
  },
  {
   "cell_type": "code",
   "execution_count": 56,
   "id": "5eceedf6",
   "metadata": {},
   "outputs": [],
   "source": [
    "for model in [logreg_pipe_scale_smote, tree_pipe_scale_smote, knn_pipe_scale_smote, rf_pipe_scale_smote]:\n",
    "    model.fit(X_train_val, y_train_val)"
   ]
  },
  {
   "cell_type": "markdown",
   "id": "845ff9d2",
   "metadata": {},
   "source": [
    "*Summary*"
   ]
  },
  {
   "cell_type": "code",
   "execution_count": 57,
   "id": "be4b0b15",
   "metadata": {},
   "outputs": [
    {
     "data": {
      "text/html": [
       "<div>\n",
       "<style scoped>\n",
       "    .dataframe tbody tr th:only-of-type {\n",
       "        vertical-align: middle;\n",
       "    }\n",
       "\n",
       "    .dataframe tbody tr th {\n",
       "        vertical-align: top;\n",
       "    }\n",
       "\n",
       "    .dataframe thead th {\n",
       "        text-align: right;\n",
       "    }\n",
       "</style>\n",
       "<table border=\"1\" class=\"dataframe\">\n",
       "  <thead>\n",
       "    <tr style=\"text-align: right;\">\n",
       "      <th></th>\n",
       "      <th>method</th>\n",
       "      <th>mean score</th>\n",
       "      <th>std score</th>\n",
       "      <th>roc auc score</th>\n",
       "    </tr>\n",
       "  </thead>\n",
       "  <tbody>\n",
       "    <tr>\n",
       "      <th>0</th>\n",
       "      <td>Logistic Regression SMOTE</td>\n",
       "      <td>0.864258</td>\n",
       "      <td>0.003300</td>\n",
       "      <td>0.775111</td>\n",
       "    </tr>\n",
       "    <tr>\n",
       "      <th>1</th>\n",
       "      <td>Decision Tree Classifier SMOTE</td>\n",
       "      <td>0.876950</td>\n",
       "      <td>0.002916</td>\n",
       "      <td>0.796288</td>\n",
       "    </tr>\n",
       "    <tr>\n",
       "      <th>2</th>\n",
       "      <td>KNN Classifier SMOTE</td>\n",
       "      <td>0.843936</td>\n",
       "      <td>0.008681</td>\n",
       "      <td>0.770101</td>\n",
       "    </tr>\n",
       "    <tr>\n",
       "      <th>3</th>\n",
       "      <td>Random Forest Classifier SMOTE</td>\n",
       "      <td>0.887571</td>\n",
       "      <td>0.003439</td>\n",
       "      <td>0.797091</td>\n",
       "    </tr>\n",
       "  </tbody>\n",
       "</table>\n",
       "</div>"
      ],
      "text/plain": [
       "                           method  mean score  std score  roc auc score\n",
       "0       Logistic Regression SMOTE    0.864258   0.003300       0.775111\n",
       "1  Decision Tree Classifier SMOTE    0.876950   0.002916       0.796288\n",
       "2            KNN Classifier SMOTE    0.843936   0.008681       0.770101\n",
       "3  Random Forest Classifier SMOTE    0.887571   0.003439       0.797091"
      ]
     },
     "execution_count": 57,
     "metadata": {},
     "output_type": "execute_result"
    }
   ],
   "source": [
    "score_mean = [logreg_scale_smote_cv.mean(), tree_scale_smote_cv.mean(), knn_pipe_smote_cv.mean(),\n",
    "              rf_pipe_smote_cv.mean()]\n",
    "score_std = [logreg_scale_smote_cv.std(), tree_scale_smote_cv.std(), knn_pipe_smote_cv.std(),\n",
    "             rf_pipe_smote_cv.std()]\n",
    "score_roc_auc = [roc_auc_score(y_test, logreg_pipe_scale_smote.predict(X_test)),\n",
    "            roc_auc_score(y_test, tree_pipe_scale_smote.predict(X_test)), \n",
    "            roc_auc_score(y_test, knn_pipe_scale_smote.predict(X_test)), \n",
    "            roc_auc_score(y_test, rf_pipe_scale_smote.predict(X_test))]\n",
    "method_name = ['Logistic Regression SMOTE', 'Decision Tree Classifier SMOTE',\n",
    "              'KNN Classifier SMOTE', 'Random Forest Classifier SMOTE']\n",
    "smote_summary = pd.DataFrame({\n",
    "    'method': method_name,\n",
    "    'mean score': score_mean,\n",
    "    'std score': score_std,\n",
    "    'roc auc score': score_roc_auc\n",
    "})\n",
    "smote_summary"
   ]
  },
  {
   "cell_type": "code",
   "execution_count": 58,
   "id": "9921a6ab",
   "metadata": {},
   "outputs": [
    {
     "data": {
      "text/plain": [
       "<sklearn.metrics._plot.roc_curve.RocCurveDisplay at 0x1906d5456d0>"
      ]
     },
     "execution_count": 58,
     "metadata": {},
     "output_type": "execute_result"
    },
    {
     "data": {
      "image/png": "[encoded data removed]",
      "text/plain": [
       "<Figure size 432x288 with 1 Axes>"
      ]
     },
     "metadata": {
      "needs_background": "light"
     },
     "output_type": "display_data"
    }
   ],
   "source": [
    "plot_roc_curve(logreg_pipe_scale_smote, X_test, y_test)"
   ]
  },
  {
   "cell_type": "markdown",
   "id": "e083bf3d",
   "metadata": {},
   "source": [
    "# HyperParam Tuning"
   ]
  },
  {
   "cell_type": "code",
   "execution_count": 59,
   "id": "d0133945",
   "metadata": {},
   "outputs": [],
   "source": [
    "estimator = Pipeline([\n",
    "    ('transformer', transformer_scale),\n",
    "    ('rus', rus),\n",
    "    ('model', rf)\n",
    "])\n",
    "\n",
    "hyperparam_space = {\n",
    "    'model__n_estimators': [50, 100, 150, 200],\n",
    "    'model__criterion': ['gini', 'entropy'],\n",
    "    'model__max_depth': [2, 3, 5, 7, 10, 15, 20],\n",
    "    'model__min_samples_leaf': [3, 7, 9, 13, 15, 21],\n",
    "    'model__max_features': [20, 30, 40, 50]\n",
    "}\n",
    "\n",
    "random = RandomizedSearchCV(\n",
    "                estimator,\n",
    "                param_distributions = hyperparam_space,\n",
    "                cv = StratifiedKFold(n_splits = 5),\n",
    "                scoring = 'roc_auc',\n",
    "                n_iter = 10,\n",
    "                n_jobs = -1)"
   ]
  },
  {
   "cell_type": "code",
   "execution_count": 60,
   "id": "6968fa7c",
   "metadata": {},
   "outputs": [
    {
     "data": {
      "text/plain": [
       "RandomizedSearchCV(cv=StratifiedKFold(n_splits=5, random_state=None, shuffle=False),\n",
       "                   estimator=Pipeline(steps=[('transformer',\n",
       "                                              ColumnTransformer(remainder='passthrough',\n",
       "                                                                transformers=[('one '\n",
       "                                                                               'hot',\n",
       "                                                                               OneHotEncoder(handle_unknown='ignore'),\n",
       "                                                                               ['country',\n",
       "                                                                                'market_segment',\n",
       "                                                                                'deposit_type',\n",
       "                                                                                'customer_type',\n",
       "                                                                                'reserved_room_type'])])),\n",
       "                                             ('rus',\n",
       "                                              RandomUnderSampler(random_state=2727)),\n",
       "                                             ('model',\n",
       "                                              RandomForestClassifier(random_state=2727))]),\n",
       "                   n_jobs=-1,\n",
       "                   param_distributions={'model__criterion': ['gini', 'entropy'],\n",
       "                                        'model__max_depth': [2, 3, 5, 7, 10, 15,\n",
       "                                                             20],\n",
       "                                        'model__max_features': [20, 30, 40, 50],\n",
       "                                        'model__min_samples_leaf': [3, 7, 9, 13,\n",
       "                                                                    15, 21],\n",
       "                                        'model__n_estimators': [50, 100, 150,\n",
       "                                                                200]},\n",
       "                   scoring='roc_auc')"
      ]
     },
     "execution_count": 60,
     "metadata": {},
     "output_type": "execute_result"
    }
   ],
   "source": [
    "random.fit(X_train_val, y_train_val)"
   ]
  },
  {
   "cell_type": "code",
   "execution_count": 61,
   "id": "c7a4ab9e",
   "metadata": {},
   "outputs": [
    {
     "name": "stdout",
     "output_type": "stream",
     "text": [
      "best score 0.8914417751339201\n",
      "best param {'model__n_estimators': 50, 'model__min_samples_leaf': 7, 'model__max_features': 30, 'model__max_depth': 20, 'model__criterion': 'entropy'}\n"
     ]
    }
   ],
   "source": [
    "print('best score', random.best_score_)\n",
    "print('best param', random.best_params_)"
   ]
  },
  {
   "cell_type": "markdown",
   "id": "30ebde1f",
   "metadata": {},
   "source": [
    "Comparing to all Handling Methods that I've been running, the best model is:\n",
    "- RandomForestClassifier with UnderSampling\n",
    "- Best Score: 0.88\n",
    "- Best Estimator: 200\n",
    "- Best Min Samples Leaf: 9\n",
    "- Best Max Features: 20\n",
    "- Best Max Depth: 15\n",
    "- Best Criterion: entropy"
   ]
  },
  {
   "cell_type": "markdown",
   "id": "22aff158",
   "metadata": {},
   "source": [
    "# Before VS After Tuning"
   ]
  },
  {
   "cell_type": "code",
   "execution_count": 62,
   "id": "a7fd6533",
   "metadata": {},
   "outputs": [],
   "source": [
    "estimator.fit(X_train_val, y_train_val)\n",
    "y_pred_estimator = estimator.predict(X_test)\n",
    "roc_auc_estimator = roc_auc_score(y_test, y_pred_estimator)\n",
    "\n",
    "random.best_estimator_.fit(X_train_val, y_train_val)\n",
    "y_pred_random = random.best_estimator_.predict(X_test)\n",
    "roc_auc_best_estimator = roc_auc_score(y_test, y_pred_random)"
   ]
  },
  {
   "cell_type": "code",
   "execution_count": 63,
   "id": "ba19736b",
   "metadata": {},
   "outputs": [
    {
     "data": {
      "text/html": [
       "<div>\n",
       "<style scoped>\n",
       "    .dataframe tbody tr th:only-of-type {\n",
       "        vertical-align: middle;\n",
       "    }\n",
       "\n",
       "    .dataframe tbody tr th {\n",
       "        vertical-align: top;\n",
       "    }\n",
       "\n",
       "    .dataframe thead th {\n",
       "        text-align: right;\n",
       "    }\n",
       "</style>\n",
       "<table border=\"1\" class=\"dataframe\">\n",
       "  <thead>\n",
       "    <tr style=\"text-align: right;\">\n",
       "      <th></th>\n",
       "      <th>method</th>\n",
       "      <th>score</th>\n",
       "    </tr>\n",
       "  </thead>\n",
       "  <tbody>\n",
       "    <tr>\n",
       "      <th>0</th>\n",
       "      <td>Random Forest Classifier UnderSampling Before</td>\n",
       "      <td>0.796331</td>\n",
       "    </tr>\n",
       "    <tr>\n",
       "      <th>1</th>\n",
       "      <td>Random Forest Classifier UnderSampling After</td>\n",
       "      <td>0.795622</td>\n",
       "    </tr>\n",
       "  </tbody>\n",
       "</table>\n",
       "</div>"
      ],
      "text/plain": [
       "                                          method     score\n",
       "0  Random Forest Classifier UnderSampling Before  0.796331\n",
       "1   Random Forest Classifier UnderSampling After  0.795622"
      ]
     },
     "execution_count": 63,
     "metadata": {},
     "output_type": "execute_result"
    }
   ],
   "source": [
    "score_list = [roc_auc_estimator, roc_auc_best_estimator]\n",
    "method_name = ['Random Forest Classifier UnderSampling Before', 'Random Forest Classifier UnderSampling After']\n",
    "best_summary = pd.DataFrame({\n",
    "    'method': method_name,\n",
    "    'score': score_list\n",
    "})\n",
    "best_summary"
   ]
  },
  {
   "cell_type": "markdown",
   "id": "d97237f8",
   "metadata": {},
   "source": [
    "# Using ML"
   ]
  },
  {
   "cell_type": "code",
   "execution_count": 65,
   "id": "6712426f",
   "metadata": {},
   "outputs": [],
   "source": [
    "import pickle"
   ]
  },
  {
   "cell_type": "code",
   "execution_count": 67,
   "id": "9ff69905",
   "metadata": {},
   "outputs": [],
   "source": [
    "file_name = \"data_hotel_booking_demand.csv\"\n",
    "pickle.dump(estimator, open(file_name, 'wb'))"
   ]
  },
  {
   "cell_type": "code",
   "execution_count": 68,
   "id": "65675ca3",
   "metadata": {},
   "outputs": [],
   "source": [
    "loaded_model = pickle.load(open(file_name, 'rb'))"
   ]
  },
  {
   "cell_type": "code",
   "execution_count": 69,
   "id": "8042c25b",
   "metadata": {},
   "outputs": [
    {
     "data": {
      "text/plain": [
       "array([0, 0, 1, ..., 0, 0, 1], dtype=int64)"
      ]
     },
     "execution_count": 69,
     "metadata": {},
     "output_type": "execute_result"
    }
   ],
   "source": [
    "loaded_model.predict(X_test)"
   ]
  },
  {
   "cell_type": "code",
   "execution_count": 70,
   "id": "871eeb5d",
   "metadata": {},
   "outputs": [],
   "source": [
    "hotel_pred = pd.DataFrame({\n",
    "    'country': ['PRT'],\n",
    "    'market_segment': ['Online TA'],\n",
    "    'previous_cancellations': ['0'],\n",
    "    'booking_changes': ['0'],\n",
    "    'deposit_type': ['No Deposit'],\n",
    "    'days_in_waiting_list': ['0'],\n",
    "    'customer_type': ['Contract'],\n",
    "    'reserved_room_type': ['A'],\n",
    "    'required_car_parking_spaces': ['0'],\n",
    "    'total_of_special_requests': ['0'],\n",
    "})"
   ]
  },
  {
   "cell_type": "code",
   "execution_count": 71,
   "id": "f91b7654",
   "metadata": {},
   "outputs": [
    {
     "data": {
      "text/plain": [
       "array([1], dtype=int64)"
      ]
     },
     "execution_count": 71,
     "metadata": {},
     "output_type": "execute_result"
    }
   ],
   "source": [
    "loaded_model.predict(hotel_pred)"
   ]
  },
  {
   "cell_type": "code",
   "execution_count": 72,
   "id": "fe4b20d7",
   "metadata": {},
   "outputs": [
    {
     "data": {
      "text/plain": [
       "array([[0.27905876, 0.72094124]])"
      ]
     },
     "execution_count": 72,
     "metadata": {},
     "output_type": "execute_result"
    }
   ],
   "source": [
    "loaded_model.predict_proba(hotel_pred)"
   ]
  },
  {
   "cell_type": "code",
   "execution_count": null,
   "id": "67cb0468",
   "metadata": {},
   "outputs": [],
   "source": []
  }
 ],
 "metadata": {
  "kernelspec": {
   "display_name": "Python 3 (ipykernel)",
   "language": "python",
   "name": "python3"
  },
  "language_info": {
   "codemirror_mode": {
    "name": "ipython",
    "version": 3
   },
   "file_extension": ".py",
   "mimetype": "text/x-python",
   "name": "python",
   "nbconvert_exporter": "python",
   "pygments_lexer": "ipython3",
   "version": "3.9.7"
  }
 },
 "nbformat": 4,
 "nbformat_minor": 5
}
